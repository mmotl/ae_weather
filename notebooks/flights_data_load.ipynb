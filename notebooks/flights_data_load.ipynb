{
 "cells": [
  {
   "cell_type": "code",
   "execution_count": null,
   "metadata": {},
   "outputs": [],
   "source": [
    "# defining data types for the DB\n",
    "flights_dtypes = {\n",
    "    'flight_date': types.DateTime,\n",
    "    'dep_time': types.Integer,\n",
    "    'sched_dep_time': types.Integer,\n",
    "    'dep_delay': types.Integer,\n",
    "    'arr_time': types.Integer,\n",
    "    'sched_arr_time': types.Integer,\n",
    "    'arr_delay': types.Integer,\n",
    "    'airline': types.String,\n",
    "    'tail_number': types.String,\n",
    "    'flight_number': types.Integer,\n",
    "    'origin': types.String,\n",
    "    'dest': types.String,\n",
    "    'air_time': types.Integer,\n",
    "    'actual_elapsed_time': types.Integer,\n",
    "    'distance': types.Integer,\n",
    "    'cancelled': types.Integer,\n",
    "    'diverted': types.Integer\n",
    "}"
   ]
  }
 ],
 "metadata": {
  "language_info": {
   "name": "python"
  }
 },
 "nbformat": 4,
 "nbformat_minor": 2
}
